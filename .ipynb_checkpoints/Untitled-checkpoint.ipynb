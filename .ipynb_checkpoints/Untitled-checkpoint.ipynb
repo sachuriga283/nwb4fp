{
 "cells": [
  {
   "cell_type": "code",
   "execution_count": 1,
   "id": "8e5d8c7e-dd3d-44f5-bc2a-143ea7f7ee99",
   "metadata": {},
   "outputs": [
    {
     "name": "stderr",
     "output_type": "stream",
     "text": [
      "C:\\Users\\sachur\\AppData\\Roaming\\Python\\Python311\\site-packages\\tqdm\\auto.py:21: TqdmWarning: IProgress not found. Please update jupyter and ipywidgets. See https://ipywidgets.readthedocs.io/en/stable/user_install.html\n",
      "  from .autonotebook import tqdm as notebook_tqdm\n"
     ]
    }
   ],
   "source": [
    "import dlc2kinematics"
   ]
  },
  {
   "cell_type": "code",
   "execution_count": null,
   "id": "36d4c813-da6a-44e0-a3cd-2602ebd12a48",
   "metadata": {},
   "outputs": [],
   "source": [
    "df, bodyparts, scorer = dlc2kinematics.load_data(r'S:/Sachuriga/Ephys_Vedio/CR_CA1/65409_Open_Field_50Hz_A2023-12-05T13_14_39DLC_dlcrnetms5_CR_implant_DLCnetNov30shuffle3_600000_sk.h5')"
   ]
  },
  {
   "cell_type": "code",
   "execution_count": null,
   "id": "9719cc1e-d81a-4b9e-9910-61917d000ae3",
   "metadata": {},
   "outputs": [],
   "source": []
  }
 ],
 "metadata": {
  "kernelspec": {
   "display_name": "Python 3 (ipykernel)",
   "language": "python",
   "name": "python3"
  },
  "language_info": {
   "codemirror_mode": {
    "name": "ipython",
    "version": 3
   },
   "file_extension": ".py",
   "mimetype": "text/x-python",
   "name": "python",
   "nbconvert_exporter": "python",
   "pygments_lexer": "ipython3",
   "version": "3.11.0"
  }
 },
 "nbformat": 4,
 "nbformat_minor": 5
}
