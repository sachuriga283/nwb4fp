{
 "cells": [
  {
   "cell_type": "code",
   "execution_count": 1,
   "id": "799a98ac-5c21-40d1-a21d-e9d0c411a3d1",
   "metadata": {},
   "outputs": [
    {
     "name": "stderr",
     "output_type": "stream",
     "text": [
      "c:\\Users\\sachur\\AppData\\Local\\anaconda3\\envs\\nwb\\Lib\\site-packages\\tqdm\\auto.py:21: TqdmWarning: IProgress not found. Please update jupyter and ipywidgets. See https://ipywidgets.readthedocs.io/en/stable/user_install.html\n",
      "  from .autonotebook import tqdm as notebook_tqdm\n"
     ]
    }
   ],
   "source": [
    "from nwb4fp.main import main_create_nwb\n",
    "import sys\n",
    "from pathlib import Path"
   ]
  },
  {
   "cell_type": "code",
   "execution_count": null,
   "id": "c36a35c3-3d0a-45c6-9221-d35b2030cbce",
   "metadata": {},
   "outputs": [
    {
     "name": "stdout",
     "output_type": "stream",
     "text": [
      "['S:\\\\Sachuriga/Ephys_Recording/CR_CA1/65588/65588_2024-03-04_15-44-37_A_phy_k', 'S:\\\\Sachuriga/Ephys_Recording/CR_CA1/65588/65588_2024-03-06_15-45-53_A_phy_k', 'S:\\\\Sachuriga/Ephys_Recording/CR_CA1/65588/65588_2024-03-08_14-47-56_A_phy_k']\n",
      "S:\\Sachuriga/Ephys_Recording/CR_CA1/65588/65588_2024-03-08_14-47-56_A_phy_k\n",
      "ASSY-236-F - cambridgeneurotech - 64ch - 6shanks\n",
      "get times for raw sortsNone\n"
     ]
    }
   ],
   "source": [
    "base_path = Path(\"Q:/Sachuriga/Sachuriga_Python\")\n",
    "base_data_folder = Path(\"S:/Sachuriga/\")\n",
    "project_path = fr\"{base_path}/quality_metrix/\"\n",
    "\n",
    "sex = \"F\"\n",
    "animals = [\"65588\"] \n",
    "age = \"P45+\"\n",
    "species = \"Mus musculus\"\n",
    "vedio_search_directory = base_data_folder/fr\"Ephys_Vedio/CR_CA1/\"\n",
    "path_save = base_data_folder/fr\"nwb\"\n",
    "temp_folder = Path(r'S:/Sachuriga/temp_waveform/')\n",
    "\n",
    "main_create_nwb.run_qmnwb(animals,\n",
    "                          base_data_folder,\n",
    "                          sex,age,\n",
    "                          species,\n",
    "                          vedio_search_directory,\n",
    "                          path_save,\n",
    "                          temp_folder)"
   ]
  },
  {
   "cell_type": "code",
   "execution_count": null,
   "id": "dfea6e2c-3983-496b-87e8-abdc2adf8c7e",
   "metadata": {},
   "outputs": [],
   "source": []
  }
 ],
 "metadata": {
  "kernelspec": {
   "display_name": "Python 3 (ipykernel)",
   "language": "python",
   "name": "python3"
  },
  "language_info": {
   "codemirror_mode": {
    "name": "ipython",
    "version": 3
   },
   "file_extension": ".py",
   "mimetype": "text/x-python",
   "name": "python",
   "nbconvert_exporter": "python",
   "pygments_lexer": "ipython3",
   "version": "3.11.0"
  }
 },
 "nbformat": 4,
 "nbformat_minor": 5
}
