{
 "cells": [
  {
   "cell_type": "code",
   "execution_count": 51,
   "id": "7bad7659-b250-480c-be16-62897df326dc",
   "metadata": {},
   "outputs": [],
   "source": [
    "import matplotlib.pyplot as plt\n",
    "import spikeinterface as si\n",
    "import spikeinterface.extractors as se\n",
    "import spikeinterface.postprocessing as spost\n",
    "import spikeinterface.widgets as sw\n",
    "import numpy as np\n",
    "from pathlib import Path\n",
    "import shutil"
   ]
  },
  {
   "cell_type": "code",
   "execution_count": 31,
   "id": "93691e02-1e40-4d89-992e-b503dfab376f",
   "metadata": {},
   "outputs": [],
   "source": [
    "wave_a = np.load('C:\\waveforms\\waveforms/waveforms_1.npy')\n",
    "wave_a_index = np.load('C:\\waveforms\\waveforms/sampled_index_1.npy')"
   ]
  },
  {
   "cell_type": "code",
   "execution_count": 32,
   "id": "051a3295-8824-4ec4-b953-2462a3061ffb",
   "metadata": {},
   "outputs": [
    {
     "data": {
      "text/plain": [
       "(1000,)"
      ]
     },
     "execution_count": 32,
     "metadata": {},
     "output_type": "execute_result"
    }
   ],
   "source": [
    "wave_a_index.shape"
   ]
  },
  {
   "cell_type": "code",
   "execution_count": 33,
   "id": "4b2e4e64-473f-4d16-b2ba-2d59cec8342b",
   "metadata": {},
   "outputs": [
    {
     "data": {
      "text/plain": [
       "(1000,)"
      ]
     },
     "execution_count": 33,
     "metadata": {},
     "output_type": "execute_result"
    }
   ],
   "source": [
    "wave_a_index.shape"
   ]
  },
  {
   "cell_type": "code",
   "execution_count": 47,
   "id": "2c7d0fb4-5b58-4743-b3be-a57e3855f894",
   "metadata": {},
   "outputs": [],
   "source": [
    "dlc_path = Path(\"S:\\Sachuriga\\Ephys_Vedio\\CR_CA1/65165_Open_Field_50Hz_A2023-06-29T17_03_02DLC_dlcrnetms5_CR_implant_DLCnetNov30shuffle3_600000_sk_filtered.h5\")"
   ]
  },
  {
   "cell_type": "code",
   "execution_count": 63,
   "id": "34bed951-6f10-4a48-a855-72596f344e2c",
   "metadata": {},
   "outputs": [],
   "source": [
    "temp_vname = dlc_path.name.split(\"DLC_dlcrnet\")\n",
    "vname=temp_vname[0]\n",
    "path_ori = dlc_path.parent\n",
    "idun_vedio_path=r\"P:/Overlap_project/data/CR_implant_add_new\""
   ]
  },
  {
   "cell_type": "code",
   "execution_count": 43,
   "id": "1ec00e0d-3cb8-40da-b35f-21c07995d678",
   "metadata": {},
   "outputs": [],
   "source": [
    "dlc_path=fr\"{dlc_path}\""
   ]
  },
  {
   "cell_type": "code",
   "execution_count": 52,
   "id": "c24a9780-67b2-4734-9fd5-9c4f7d69833b",
   "metadata": {},
   "outputs": [
    {
     "data": {
      "text/plain": [
       "'65165_Open_Field_50Hz_A2023-06-29T17_03_02DLC_dlcrnetms5_CR_implant_DLCnetNov30shuffle3_600000_sk_filtered'"
      ]
     },
     "execution_count": 52,
     "metadata": {},
     "output_type": "execute_result"
    }
   ],
   "source": [
    "dlc_path.stem"
   ]
  },
  {
   "cell_type": "code",
   "execution_count": 60,
   "id": "07a98904-8356-4049-9812-5f5b1d1becc5",
   "metadata": {},
   "outputs": [
    {
     "data": {
      "text/plain": [
       "WindowsPath('S:/Sachuriga/Ephys_Vedio/CR_CA1')"
      ]
     },
     "execution_count": 60,
     "metadata": {},
     "output_type": "execute_result"
    }
   ],
   "source": [
    "ori_path"
   ]
  },
  {
   "cell_type": "code",
   "execution_count": 50,
   "id": "787da767-c807-4f01-8bf1-edd8dafe3ca0",
   "metadata": {},
   "outputs": [
    {
     "data": {
      "text/plain": [
       "WindowsPath('S:/Sachuriga/Ephys_Vedio/CR_CA1')"
      ]
     },
     "execution_count": 50,
     "metadata": {},
     "output_type": "execute_result"
    }
   ],
   "source": [
    "path_ori = dlc_path.parent"
   ]
  },
  {
   "cell_type": "code",
   "execution_count": 66,
   "id": "fcff630a-206f-4272-85ed-de98ba0aa488",
   "metadata": {},
   "outputs": [
    {
     "data": {
      "text/plain": [
       "WindowsPath('P:/Overlap_project/data/CR_implant_add_new/65165_Open_Field_50Hz_A2023-06-29T17_03_02.avi')"
      ]
     },
     "execution_count": 66,
     "metadata": {},
     "output_type": "execute_result"
    }
   ],
   "source": [
    "shutil.copy2(Path(fr'{path_ori}/{vname}.avi'), Path(fr'{idun_vedio_path}/{vname}.avi'))"
   ]
  },
  {
   "cell_type": "code",
   "execution_count": null,
   "id": "9dcfb58a-8c19-489e-bae1-323b0f2a8837",
   "metadata": {},
   "outputs": [],
   "source": []
  }
 ],
 "metadata": {
  "kernelspec": {
   "display_name": "Python 3 (ipykernel)",
   "language": "python",
   "name": "python3"
  },
  "language_info": {
   "codemirror_mode": {
    "name": "ipython",
    "version": 3
   },
   "file_extension": ".py",
   "mimetype": "text/x-python",
   "name": "python",
   "nbconvert_exporter": "python",
   "pygments_lexer": "ipython3",
   "version": "3.11.0"
  }
 },
 "nbformat": 4,
 "nbformat_minor": 5
}
