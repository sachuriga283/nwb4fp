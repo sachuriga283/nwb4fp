{
 "cells": [
  {
   "cell_type": "code",
   "execution_count": 1,
   "id": "7bad7659-b250-480c-be16-62897df326dc",
   "metadata": {},
   "outputs": [
    {
     "name": "stderr",
     "output_type": "stream",
     "text": [
      "C:\\Users\\sachur\\AppData\\Roaming\\Python\\Python311\\site-packages\\tqdm\\auto.py:21: TqdmWarning: IProgress not found. Please update jupyter and ipywidgets. See https://ipywidgets.readthedocs.io/en/stable/user_install.html\n",
      "  from .autonotebook import tqdm as notebook_tqdm\n"
     ]
    }
   ],
   "source": [
    "import matplotlib.pyplot as plt\n",
    "import spikeinterface as si\n",
    "import spikeinterface.extractors as se\n",
    "import spikeinterface.postprocessing as spost\n",
    "import spikeinterface.widgets as sw\n",
    "import numpy as np"
   ]
  },
  {
   "cell_type": "code",
   "execution_count": 31,
   "id": "93691e02-1e40-4d89-992e-b503dfab376f",
   "metadata": {},
   "outputs": [],
   "source": [
    "wave_a = np.load('C:\\waveforms\\waveforms/waveforms_1.npy')\n",
    "wave_a_index = np.load('C:\\waveforms\\waveforms/sampled_index_1.npy')"
   ]
  },
  {
   "cell_type": "code",
   "execution_count": 32,
   "id": "051a3295-8824-4ec4-b953-2462a3061ffb",
   "metadata": {},
   "outputs": [
    {
     "data": {
      "text/plain": [
       "(1000,)"
      ]
     },
     "execution_count": 32,
     "metadata": {},
     "output_type": "execute_result"
    }
   ],
   "source": [
    "wave_a_index.shape"
   ]
  },
  {
   "cell_type": "code",
   "execution_count": 33,
   "id": "4b2e4e64-473f-4d16-b2ba-2d59cec8342b",
   "metadata": {},
   "outputs": [
    {
     "data": {
      "text/plain": [
       "(1000,)"
      ]
     },
     "execution_count": 33,
     "metadata": {},
     "output_type": "execute_result"
    }
   ],
   "source": [
    "wave_a_index.shape"
   ]
  },
  {
   "cell_type": "code",
   "execution_count": null,
   "id": "2c7d0fb4-5b58-4743-b3be-a57e3855f894",
   "metadata": {},
   "outputs": [],
   "source": []
  },
  {
   "cell_type": "code",
   "execution_count": null,
   "id": "34bed951-6f10-4a48-a855-72596f344e2c",
   "metadata": {},
   "outputs": [],
   "source": []
  },
  {
   "cell_type": "code",
   "execution_count": null,
   "id": "1ec00e0d-3cb8-40da-b35f-21c07995d678",
   "metadata": {},
   "outputs": [],
   "source": []
  }
 ],
 "metadata": {
  "kernelspec": {
   "display_name": "Python 3 (ipykernel)",
   "language": "python",
   "name": "python3"
  },
  "language_info": {
   "codemirror_mode": {
    "name": "ipython",
    "version": 3
   },
   "file_extension": ".py",
   "mimetype": "text/x-python",
   "name": "python",
   "nbconvert_exporter": "python",
   "pygments_lexer": "ipython3",
   "version": "3.11.0"
  }
 },
 "nbformat": 4,
 "nbformat_minor": 5
}
